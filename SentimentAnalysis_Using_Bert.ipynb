{
  "nbformat": 4,
  "nbformat_minor": 0,
  "metadata": {
    "colab": {
      "name": "SentimentAnalysis_Using_Bert.ipynb",
      "version": "0.3.2",
      "provenance": [],
      "collapsed_sections": [],
      "toc_visible": true,
      "include_colab_link": true
    },
    "kernelspec": {
      "name": "python3",
      "display_name": "Python 3"
    },
    "accelerator": "GPU"
  },
  "cells": [
    {
      "cell_type": "markdown",
      "metadata": {
        "id": "view-in-github",
        "colab_type": "text"
      },
      "source": [
        "<a href=\"https://colab.research.google.com/github/shaniyahali/ltp-project/blob/master/SentimentAnalysis_Using_Bert.ipynb\" target=\"_parent\"><img src=\"https://colab.research.google.com/assets/colab-badge.svg\" alt=\"Open In Colab\"/></a>"
      ]
    },
    {
      "cell_type": "markdown",
      "metadata": {
        "id": "lxqUbCzVlloB",
        "colab_type": "text"
      },
      "source": [
        "# **Preparing Data**"
      ]
    },
    {
      "cell_type": "code",
      "metadata": {
        "id": "3UifczJu0-yh",
        "colab_type": "code",
        "outputId": "e4a1d2f0-bb67-404b-ad95-a5accf5e80dd",
        "colab": {
          "base_uri": "https://localhost:8080/",
          "height": 625
        }
      },
      "source": [
        "!pip install pytorch_pretrained_bert\n",
        "!pip install torch torchvision\n",
        "!pip install pytorch-nlp"
      ],
      "execution_count": 0,
      "outputs": [
        {
          "output_type": "stream",
          "text": [
            "Requirement already satisfied: pytorch_pretrained_bert in /usr/local/lib/python3.6/dist-packages (0.6.2)\n",
            "Requirement already satisfied: torch>=0.4.1 in /usr/local/lib/python3.6/dist-packages (from pytorch_pretrained_bert) (1.1.0)\n",
            "Requirement already satisfied: boto3 in /usr/local/lib/python3.6/dist-packages (from pytorch_pretrained_bert) (1.9.165)\n",
            "Requirement already satisfied: numpy in /usr/local/lib/python3.6/dist-packages (from pytorch_pretrained_bert) (1.16.4)\n",
            "Requirement already satisfied: tqdm in /usr/local/lib/python3.6/dist-packages (from pytorch_pretrained_bert) (4.28.1)\n",
            "Requirement already satisfied: regex in /usr/local/lib/python3.6/dist-packages (from pytorch_pretrained_bert) (2019.6.8)\n",
            "Requirement already satisfied: requests in /usr/local/lib/python3.6/dist-packages (from pytorch_pretrained_bert) (2.21.0)\n",
            "Requirement already satisfied: s3transfer<0.3.0,>=0.2.0 in /usr/local/lib/python3.6/dist-packages (from boto3->pytorch_pretrained_bert) (0.2.1)\n",
            "Requirement already satisfied: jmespath<1.0.0,>=0.7.1 in /usr/local/lib/python3.6/dist-packages (from boto3->pytorch_pretrained_bert) (0.9.4)\n",
            "Requirement already satisfied: botocore<1.13.0,>=1.12.165 in /usr/local/lib/python3.6/dist-packages (from boto3->pytorch_pretrained_bert) (1.12.165)\n",
            "Requirement already satisfied: certifi>=2017.4.17 in /usr/local/lib/python3.6/dist-packages (from requests->pytorch_pretrained_bert) (2019.3.9)\n",
            "Requirement already satisfied: chardet<3.1.0,>=3.0.2 in /usr/local/lib/python3.6/dist-packages (from requests->pytorch_pretrained_bert) (3.0.4)\n",
            "Requirement already satisfied: urllib3<1.25,>=1.21.1 in /usr/local/lib/python3.6/dist-packages (from requests->pytorch_pretrained_bert) (1.24.3)\n",
            "Requirement already satisfied: idna<2.9,>=2.5 in /usr/local/lib/python3.6/dist-packages (from requests->pytorch_pretrained_bert) (2.8)\n",
            "Requirement already satisfied: docutils>=0.10 in /usr/local/lib/python3.6/dist-packages (from botocore<1.13.0,>=1.12.165->boto3->pytorch_pretrained_bert) (0.14)\n",
            "Requirement already satisfied: python-dateutil<3.0.0,>=2.1; python_version >= \"2.7\" in /usr/local/lib/python3.6/dist-packages (from botocore<1.13.0,>=1.12.165->boto3->pytorch_pretrained_bert) (2.5.3)\n",
            "Requirement already satisfied: six>=1.5 in /usr/local/lib/python3.6/dist-packages (from python-dateutil<3.0.0,>=2.1; python_version >= \"2.7\"->botocore<1.13.0,>=1.12.165->boto3->pytorch_pretrained_bert) (1.12.0)\n",
            "Requirement already satisfied: torch in /usr/local/lib/python3.6/dist-packages (1.1.0)\n",
            "Requirement already satisfied: torchvision in /usr/local/lib/python3.6/dist-packages (0.3.0)\n",
            "Requirement already satisfied: numpy in /usr/local/lib/python3.6/dist-packages (from torch) (1.16.4)\n",
            "Requirement already satisfied: pillow>=4.1.1 in /usr/local/lib/python3.6/dist-packages (from torchvision) (4.3.0)\n",
            "Requirement already satisfied: six in /usr/local/lib/python3.6/dist-packages (from torchvision) (1.12.0)\n",
            "Requirement already satisfied: olefile in /usr/local/lib/python3.6/dist-packages (from pillow>=4.1.1->torchvision) (0.46)\n",
            "Requirement already satisfied: pytorch-nlp in /usr/local/lib/python3.6/dist-packages (0.4.1)\n",
            "Requirement already satisfied: requests in /usr/local/lib/python3.6/dist-packages (from pytorch-nlp) (2.21.0)\n",
            "Requirement already satisfied: tqdm in /usr/local/lib/python3.6/dist-packages (from pytorch-nlp) (4.28.1)\n",
            "Requirement already satisfied: numpy in /usr/local/lib/python3.6/dist-packages (from pytorch-nlp) (1.16.4)\n",
            "Requirement already satisfied: pandas in /usr/local/lib/python3.6/dist-packages (from pytorch-nlp) (0.24.2)\n",
            "Requirement already satisfied: urllib3<1.25,>=1.21.1 in /usr/local/lib/python3.6/dist-packages (from requests->pytorch-nlp) (1.24.3)\n",
            "Requirement already satisfied: idna<2.9,>=2.5 in /usr/local/lib/python3.6/dist-packages (from requests->pytorch-nlp) (2.8)\n",
            "Requirement already satisfied: certifi>=2017.4.17 in /usr/local/lib/python3.6/dist-packages (from requests->pytorch-nlp) (2019.3.9)\n",
            "Requirement already satisfied: chardet<3.1.0,>=3.0.2 in /usr/local/lib/python3.6/dist-packages (from requests->pytorch-nlp) (3.0.4)\n",
            "Requirement already satisfied: python-dateutil>=2.5.0 in /usr/local/lib/python3.6/dist-packages (from pandas->pytorch-nlp) (2.5.3)\n",
            "Requirement already satisfied: pytz>=2011k in /usr/local/lib/python3.6/dist-packages (from pandas->pytorch-nlp) (2018.9)\n",
            "Requirement already satisfied: six>=1.5 in /usr/local/lib/python3.6/dist-packages (from python-dateutil>=2.5.0->pandas->pytorch-nlp) (1.12.0)\n"
          ],
          "name": "stdout"
        }
      ]
    },
    {
      "cell_type": "code",
      "metadata": {
        "id": "BWiyoDOFkzZQ",
        "colab_type": "code",
        "colab": {}
      },
      "source": [
        "import torch\n",
        "\n",
        "SEED = 1234\n",
        "\n",
        "torch.manual_seed(SEED)\n",
        "torch.backends.cudnn.deterministic = True"
      ],
      "execution_count": 0,
      "outputs": []
    },
    {
      "cell_type": "markdown",
      "metadata": {
        "id": "MwWJgQhR-kg2",
        "colab_type": "text"
      },
      "source": [
        "## Load IMDB dataset from torchnlp"
      ]
    },
    {
      "cell_type": "code",
      "metadata": {
        "id": "wZgujfSY-phn",
        "colab_type": "code",
        "colab": {}
      },
      "source": [
        "import random as rn\n",
        "from torchnlp.datasets import imdb_dataset\n",
        "\n",
        "rn.seed(321)\n",
        "\n",
        "org_train_data, org_test_data = imdb_dataset(train=True, test=True)\n",
        "rn.shuffle(org_train_data)\n",
        "rn.shuffle(org_test_data)"
      ],
      "execution_count": 0,
      "outputs": []
    },
    {
      "cell_type": "code",
      "metadata": {
        "id": "hgbidbJCI6vL",
        "colab_type": "code",
        "outputId": "b1f74e6d-a392-44a0-8a11-8128dad9c2fa",
        "colab": {
          "base_uri": "https://localhost:8080/",
          "height": 34
        }
      },
      "source": [
        "print(len(org_test_data))"
      ],
      "execution_count": 0,
      "outputs": [
        {
          "output_type": "stream",
          "text": [
            "25000\n"
          ],
          "name": "stdout"
        }
      ]
    },
    {
      "cell_type": "code",
      "metadata": {
        "id": "RHEc4r5UPqPh",
        "colab_type": "code",
        "outputId": "239f712a-21e3-49a1-be9e-5c8ab67054e6",
        "colab": {
          "base_uri": "https://localhost:8080/",
          "height": 138
        }
      },
      "source": [
        "train_data = org_train_data[:17500]\n",
        "valid_data = org_train_data[17500:]\n",
        "test_data = org_test_data\n",
        "\n",
        "print(len(train_data))\n",
        "print(len(valid_data))\n",
        "print(len(test_data))\n",
        "\n",
        "print(train_data[0])\n",
        "print(valid_data[0])\n",
        "print(test_data[0])\n"
      ],
      "execution_count": 0,
      "outputs": [
        {
          "output_type": "stream",
          "text": [
            "17500\n",
            "7500\n",
            "25000\n",
            "{'text': 'Victor McLaglen, the title character of John Ford\\'s THE INFORMER, reminded me of the circus man from Fellini\\'s LA STRADA. Anthony Quinn played the brutish man, who may have even been influenced by the pug-faced, Oscar-winning performance given by McLaglen. Poverty-stricken Dublin is the true-life, atmospheric setting of the picture, which takes place in 1922. Dense fog and a long damp night are the main elements of a story about deep Irish patriotism and the fight of the Irish Republican Army. The conflict of individuality and the cause is what makes THE INFORMER tick. McLaglen\\'s large, simple character just wants to go to America and we\\'re reminded by signs of the price for a ticket frequently. Two different signs become the psychological centerpiece for the drunken Irishman. One is the previous, the other a WANTED sign. Should he do it and get the money to go?<br /><br />John Ford once famously said, \"My name is Ford. I make Westerns.\" After seeing this film, he obviously could do a heck of a lot more. The serious social issues dealt with here are heartfelt and ones you will find yourself thinking about. And the look of the piece is amazing, consisting of long dark shadows cutting into a miserable Ireland night. Ford was always known for his luminescent, gorgeous cinematography that helped to foresee the conflicts within his characters. This is hard in color, but he did it in pictures like THE SEARCHERS, painting John Wayne in a sometimes vicious manner. Victor McLaglen\\'s performance not only benefits from the lighting, but by the sheer simplicity of his acting. He shoves a lot. He knocks people out. He is a brute who knows no better. He should, however, know whether or not to cross the IRA.<br /><br />See the film to find out the gritty details. See it also for McLaglen and Ford\\'s patriotic portrayal of the IRA. Max Steiner\\'s score is innovative in how it matches gestures of the characters, placing more emphasis on them. This was usually only seen in silent films, especially Chaplin. The topic of naming names or \"informing\" is obviously still important. Just look at how the media covered this year\\'s Oscars, giving much attention to the Elia Kazan scandal.', 'sentiment': 'pos'}\n",
            "{'text': \"I have this film out of the library right now and I haven't finished watching it. It is so bad I am in disbelief. Audrey Hepburn had totally lost her talent by then, although she'd pretty much finished with it in 'Robin and Marian.' This is the worst thing about this appallingly stupid film. It's really only of interest because it was her last feature film and because of the Dorothy Stratten appearance just prior to her homicide.<br /><br />There is nothing but idiocy between Gazzara and his cronies. Little signals and little bows and nods to real screwball comedy of which this is the faintest, palest shadow.<br /><br />Who could believe that there are even some of the same Manhattan environs that Hepburn inhabited so magically and even mythically in 'Breakfast at Tiffany's' twenty years earlier? The soundtrack of old Sinatra songs and the Gershwin song from which the title is taken is too loud and obvious--you sure don't have to wait for the credits to find out that something was subtly woven into the cine-musique of the picture to know when the songs blasted out at you.<br /><br />'Reverting to type' means going back up as well as going back down, I guess. In this case, Audrey Hepburn's chic European lady is all you see of someone who was formerly occasionally an actress and always a star. Here she has even lost her talent as a star. If someone whose talent was continuing to grow in the period, like Ann-Margret, had played the role, there would have been some life in it, even given the unbelievably bad material and Mongoloid-level situations.<br /><br />Hepburn was a great person, of course, greater than most movie stars ever dreamed of being, and she was once one of the most charming and beautiful of film actors. After this dreadful performance, she went on to make an atrocious TV movie with Robert Wagner called 'Love Among Thieves.' In 'They all Laughed' it is as though she were still playing an ingenue in her 50's. Even much vainer and obviously less intelligent actresses who insisted upon doing this like Lana Turner were infinitely more effective than is Hepburn. Turner took acting seriously even when she was bad. Hepburn doesn't take it seriously at all, couldn't be bothered with it; even her hair and clothes look tacky. Her last really good work was in 'Two for the Road,' perhaps her most perfect, if possibly not her best in many ways.<br /><br />And that girl who plays the country singer is just sickening. John Ritter is horrible, there is simply nothing to recommend this film except to see Dorothy Stratten, who was truly pretty. Otherwise, critic David Thomson's oft-used phrase 'losing his/her talent' never has made more sense.<br /><br />Ben Gazarra had lost all sex appeal by then, and so we have 2 films with Gazarra and Hepburn--who could ask for anything less? Sandra Dee's last, pitiful film 'Lost,' from 2 years later, a low-budget nothing, had more to it than this. At least Ms. Dee spoke in her own voice; by 1981, Audrey Hepburn's accent just sounded silly; she'd go on to do the PBS 'Gardens of the World with Audrey Hepburn' and there her somewhat irritating accent works as she walks through English gardens with aristocrats or waxes effusively about 'what I like most is when flowers go back to nature!' as in naturalized daffodils, but in an actual fictional movie, she just sounds ridiculous.<br /><br />To think that 'Breakfast at Tiffany's' was such a profound sort of light poetic thing with Audrey Hepburn one of the most beautiful women in the world--she was surely one of the most beautiful screen presences in 'My Fair Lady', matching Garbo in several things and Delphine Seyrig in 'Last Year at Marienbad.' And then this! And her final brief role as the angel 'Hap' in the Spielberg film 'Always' was just more of the lady stuff--corny, witless and stifling.<br /><br />I went to her memorial service at the Fifth Avenue Presbyterian Church, a beautiful service which included a boys' choir singing the Shaker hymn 'Simple Gifts.' The only thing not listed in the program was the sudden playing of Hepburn's singing 'Moon River' on the fire escape in 'Breakfast at Tiffany's,' and this brought much emotion and some real tears out in the congregation.<br /><br />A great lady who was once a fine actress (as in 'The Nun's Story') and one of the greatest and most beautiful of film stars in many movies of the 50's and 60's who became a truly bad one--that's not all that common. And perhaps it is only a great human being who, in making such things as film performances trivial, nevertheless has the largeness of mind to want to have the flaws pointed out mercilessly--which all of her late film work contained in abundance. Most of the talk about Hepburn's miscasting is about 'My Fair Lady.' But the one that should have had the original actress in it was 'Wait Until Dark,' which had starred Lee Remick on Broadway. Never as celebrated as Hepburn, she was a better actress in many ways (Hepburn was completely incapable of playing anything really sordid), although Hepburn was at least adequate enough in that part. After that, all of her acting went downhill.\", 'sentiment': 'neg'}\n",
            "{'text': 'As a big Dostoyevsky fan, I had always been disappointed with Hollywood\\'s halfhearted attempts to get into the Russian romantic aesthetic -- case in point, Yul Brynner as Dmitri Karamazov. I had thought the whole problem was a poor casting decisions, but then I saw Yul as Major Surov and changed my mind. When given an intelligent script to work with, he suddenly came alive and was as noble, sexy, and conflicted as you could ever want a Neurotic Russian Officer to be! So he was a better Dmitri as Major Surov than he was as Dmitri. But that\\'s because writer Tabori actually gave Yul, as the Conflicted Russian Officer, the kind of Conflicted Russian Officer lines that are worthy of real literature, and that have real meaning and pathos in them. For example, a propos of folk music, he says musingly, \"You hear a man crying in the dark. And if you listen carefully enough, you know what he cries for. You look surprised, Lady Ashmore. Despite what you may have heard, tractors and Marxism aren\\'t the only things the Russian cares for. There is always time for music.\"<br /><br />Brilliant!!', 'sentiment': 'pos'}\n"
          ],
          "name": "stdout"
        }
      ]
    },
    {
      "cell_type": "markdown",
      "metadata": {
        "id": "cb3NO6N39h-L",
        "colab_type": "text"
      },
      "source": [
        "Using pre-trained tokens from Bert"
      ]
    },
    {
      "cell_type": "code",
      "metadata": {
        "id": "jl87ZKib9ekv",
        "colab_type": "code",
        "outputId": "51f7c121-315b-42cd-a4d0-5c65ec4850ef",
        "colab": {
          "base_uri": "https://localhost:8080/",
          "height": 50
        }
      },
      "source": [
        "from pytorch_pretrained_bert import BertTokenizer\n",
        "tokenizer = BertTokenizer.from_pretrained('bert-base-uncased', do_lower_case=True)\n",
        "\n",
        "train_texts, train_labels = list(zip(*map(lambda d: (d['text'], d['sentiment']), train_data)))\n",
        "valid_texts, valid_labels = list(zip(*map(lambda d: (d['text'], d['sentiment']), valid_data)))\n",
        "test_texts, test_labels = list(zip(*map(lambda d: (d['text'], d['sentiment']), test_data)))\n",
        "\n",
        "print(len(train_texts), len(train_labels), len(valid_texts), len(valid_labels), len(test_texts), len(test_labels))\n",
        "\n",
        "train_tokens = list(map(lambda t: ['[CLS]'] + tokenizer.tokenize(t)[:510] + ['[SEP]'], train_texts))\n",
        "valid_tokens = list(map(lambda t: ['[CLS]'] + tokenizer.tokenize(t)[:510] + ['[SEP]'], valid_texts))\n",
        "test_tokens = list(map(lambda t: ['[CLS]'] + tokenizer.tokenize(t)[:510] + ['[SEP]'], test_texts))\n",
        "\n",
        "len(train_tokens), len(valid_tokens), len(test_tokens)"
      ],
      "execution_count": 0,
      "outputs": [
        {
          "output_type": "stream",
          "text": [
            "17500 17500 7500 7500 25000 25000\n"
          ],
          "name": "stdout"
        },
        {
          "output_type": "execute_result",
          "data": {
            "text/plain": [
              "(17500, 7500, 25000)"
            ]
          },
          "metadata": {
            "tags": []
          },
          "execution_count": 6
        }
      ]
    },
    {
      "cell_type": "code",
      "metadata": {
        "id": "mdU-KDdo_Y3I",
        "colab_type": "code",
        "outputId": "da445bee-ce0f-41ae-e785-20ad294707eb",
        "colab": {
          "base_uri": "https://localhost:8080/",
          "height": 50
        }
      },
      "source": [
        "from keras.preprocessing.sequence import pad_sequences\n",
        "train_tokens_ids = pad_sequences(list(map(tokenizer.convert_tokens_to_ids, train_tokens)), maxlen=512, truncating=\"post\", padding=\"post\", dtype=\"int\")\n",
        "valid_tokens_ids = pad_sequences(list(map(tokenizer.convert_tokens_to_ids, valid_tokens)), maxlen=512, truncating=\"post\", padding=\"post\", dtype=\"int\")\n",
        "test_tokens_ids = pad_sequences(list(map(tokenizer.convert_tokens_to_ids, test_tokens)), maxlen=512, truncating=\"post\", padding=\"post\", dtype=\"int\")\n",
        "\n",
        "train_tokens_ids.shape, valid_tokens_ids.shape, test_tokens_ids.shape"
      ],
      "execution_count": 0,
      "outputs": [
        {
          "output_type": "stream",
          "text": [
            "Using TensorFlow backend.\n"
          ],
          "name": "stderr"
        },
        {
          "output_type": "execute_result",
          "data": {
            "text/plain": [
              "((17500, 512), (7500, 512), (25000, 512))"
            ]
          },
          "metadata": {
            "tags": []
          },
          "execution_count": 7
        }
      ]
    },
    {
      "cell_type": "code",
      "metadata": {
        "id": "yz1YF7eI_liD",
        "colab_type": "code",
        "outputId": "309e87e4-0e72-4d82-b0d7-142d599726ad",
        "colab": {
          "base_uri": "https://localhost:8080/",
          "height": 34
        }
      },
      "source": [
        "import numpy as np\n",
        "train_y = np.array(train_labels) == 'pos'\n",
        "valid_y = np.array(valid_labels) == 'pos'\n",
        "test_y = np.array(test_labels) == 'pos'\n",
        "train_y.shape, valid_y.shape, test_y.shape, np.mean(train_y), np.mean(valid_y), np.mean(test_y)"
      ],
      "execution_count": 0,
      "outputs": [
        {
          "output_type": "execute_result",
          "data": {
            "text/plain": [
              "((17500,), (7500,), (25000,), 0.4982285714285714, 0.5041333333333333, 0.5)"
            ]
          },
          "metadata": {
            "tags": []
          },
          "execution_count": 8
        }
      ]
    },
    {
      "cell_type": "code",
      "metadata": {
        "id": "dlZ4xv-y_u3Q",
        "colab_type": "code",
        "colab": {}
      },
      "source": [
        "train_masks = [[float(i > 0) for i in ii] for ii in train_tokens_ids]\n",
        "valid_masks = [[float(i > 0) for i in ii] for ii in valid_tokens_ids]\n",
        "test_masks = [[float(i > 0) for i in ii] for ii in test_tokens_ids]"
      ],
      "execution_count": 0,
      "outputs": []
    },
    {
      "cell_type": "code",
      "metadata": {
        "id": "DmzKokD-zJI3",
        "colab_type": "code",
        "colab": {}
      },
      "source": [
        "from torch.utils.data import TensorDataset, DataLoader, RandomSampler, SequentialSampler\n",
        "\n",
        "BATCH_SIZE = 64\n",
        "\n",
        "train_tokens_tensor = torch.tensor(train_tokens_ids)\n",
        "valid_tokens_tensor = torch.tensor(valid_tokens_ids)\n",
        "test_tokens_tensor = torch.tensor(test_tokens_ids)\n",
        "\n",
        "\n",
        "train_y_tensor = torch.tensor(train_y.reshape(-1, 1)).float()\n",
        "valid_y_tensor = torch.tensor(valid_y.reshape(-1, 1)).float()\n",
        "test_y_tensor = torch.tensor(test_y.reshape(-1, 1)).float()\n",
        "\n",
        "\n",
        "train_dataset = TensorDataset(train_tokens_tensor, train_y_tensor)\n",
        "valid_dataset = TensorDataset(valid_tokens_tensor, valid_y_tensor)\n",
        "test_dataset = TensorDataset(test_tokens_tensor, test_y_tensor)\n",
        "\n",
        "train_sampler = RandomSampler(train_dataset)\n",
        "valid_sampler = RandomSampler(valid_dataset)\n",
        "test_sampler = SequentialSampler(test_dataset)\n",
        "\n",
        "\n",
        "train_iterator = DataLoader(train_dataset, sampler=train_sampler, batch_size=BATCH_SIZE)\n",
        "valid_iterator = DataLoader(valid_dataset, sampler=valid_sampler, batch_size=BATCH_SIZE)\n",
        "test_iterator = DataLoader(test_dataset, sampler=test_sampler, batch_size=BATCH_SIZE)"
      ],
      "execution_count": 0,
      "outputs": []
    },
    {
      "cell_type": "markdown",
      "metadata": {
        "id": "eBPSpo4rl7io",
        "colab_type": "text"
      },
      "source": [
        "# Build the Model"
      ]
    },
    {
      "cell_type": "code",
      "metadata": {
        "id": "uL7Dl4xsl_5R",
        "colab_type": "code",
        "colab": {}
      },
      "source": [
        "import torch.nn as nn\n",
        "from pytorch_pretrained_bert import BertModel   \n",
        "\n",
        "class RNN(nn.Module):\n",
        "    def __init__(self, hidden_dim, output_dim, n_layers, bidirectional, dropout):\n",
        "        \n",
        "        super().__init__()\n",
        "        \n",
        "        #self.embedding = nn.Embedding(num_embedding, embedding_dim)\n",
        "        #self.embedding.weight = nn.Parameter(pretrained_embedding)\n",
        "        \n",
        "        model1 = BertModel.from_pretrained('bert-base-uncased')                                                                                                                           \n",
        "        self.embedding = model1.embeddings.word_embeddings\n",
        "        \n",
        "        nb_vocab = 30522        \n",
        "        embedding_dim = 768\n",
        "\n",
        "        #self.embedding = nn.Embedding.from_pretrained(torch.tensor(embedding_matrix, dtype=torch.float))\n",
        "        #self.embedding = nn.Embedding(vocab_size, embedding_dim)\n",
        "        \n",
        "        self.rnn = nn.LSTM(embedding_dim, \n",
        "                           hidden_dim, \n",
        "                           num_layers=n_layers, \n",
        "                           bidirectional=bidirectional, \n",
        "                           dropout=dropout,\n",
        "                           batch_first=True)\n",
        "        \n",
        "        self.linear = nn.Linear(hidden_dim * 2, output_dim)\n",
        "        \n",
        "        self.dropout = nn.Dropout(dropout)\n",
        "        \n",
        "    def forward(self, text, text_lengths):\n",
        "        \n",
        "        #text = [sent len, batch size]\n",
        "        \n",
        "        #lstm_out, self.hidden = self.lstm(input.view(len(input), self.batch_size, -1))\n",
        "                        \n",
        "        ##embedded = self.dropout(self.embedding(text))\n",
        "        embedded = self.embedding(text)\n",
        "        \n",
        "        #embedded = [sent len, batch size, emb dim]\n",
        "        \n",
        "        #pack sequence\n",
        "        packed_embedded = nn.utils.rnn.pack_padded_sequence(embedded, text_lengths, batch_first=True)\n",
        "        \n",
        "        packed_output, (hidden, cell) = self.rnn(packed_embedded)\n",
        "        \n",
        "        #unpack sequence\n",
        "        output, output_lengths = nn.utils.rnn.pad_packed_sequence(packed_output)\n",
        "\n",
        "        #output = [sent len, batch size, hid dim * num directions]\n",
        "        #output over padding tokens are zero tensors\n",
        "        \n",
        "        #hidden = [num layers * num directions, batch size, hid dim]\n",
        "        #cell = [num layers * num directions, batch size, hid dim]\n",
        "        \n",
        "        #concat the final forward (hidden[-2,:,:]) and backward (hidden[-1,:,:]) hidden layers\n",
        "        #and apply dropout\n",
        "        \n",
        "        hidden = self.dropout(torch.cat((hidden[-2,:,:], hidden[-1,:,:]), dim = 1))\n",
        "                \n",
        "        #hidden = [batch size, hid dim * num directions]\n",
        "            \n",
        "        return self.linear(hidden.squeeze(0))"
      ],
      "execution_count": 0,
      "outputs": []
    },
    {
      "cell_type": "code",
      "metadata": {
        "id": "GCKP1slGmIAU",
        "colab_type": "code",
        "colab": {}
      },
      "source": [
        "HIDDEN_DIM = 256\n",
        "OUTPUT_DIM = 1\n",
        "N_LAYERS = 2\n",
        "BIDIRECTIONAL = True\n",
        "DROPOUT = 0.5\n",
        "\n",
        "# (self, embedding_matrix, embedding_dim, hidden_dim, output_dim, n_layers, bidirectional, dropout):\n",
        "model = RNN(\n",
        "            HIDDEN_DIM, \n",
        "            OUTPUT_DIM, \n",
        "            N_LAYERS, \n",
        "            BIDIRECTIONAL, \n",
        "            DROPOUT\n",
        "    )"
      ],
      "execution_count": 0,
      "outputs": []
    },
    {
      "cell_type": "code",
      "metadata": {
        "id": "2Gx-YfjAmLn_",
        "colab_type": "code",
        "outputId": "4a0e6a8d-4853-4837-9caa-b179d77f7657",
        "colab": {
          "base_uri": "https://localhost:8080/",
          "height": 34
        }
      },
      "source": [
        "def count_parameters(model):\n",
        "    return sum(p.numel() for p in model.parameters() if p.requires_grad)\n",
        "\n",
        "print(f'The model has {count_parameters(model):,} trainable parameters')"
      ],
      "execution_count": 0,
      "outputs": [
        {
          "output_type": "stream",
          "text": [
            "The model has 27,119,617 trainable parameters\n"
          ],
          "name": "stdout"
        }
      ]
    },
    {
      "cell_type": "markdown",
      "metadata": {
        "id": "QKF2qlCAYtQF",
        "colab_type": "text"
      },
      "source": [
        "Set the unknown parameters to zero"
      ]
    },
    {
      "cell_type": "markdown",
      "metadata": {
        "id": "kbXJVAK-mQCw",
        "colab_type": "text"
      },
      "source": [
        "# Train the Model"
      ]
    },
    {
      "cell_type": "code",
      "metadata": {
        "id": "EE4bb7JPmTAW",
        "colab_type": "code",
        "colab": {}
      },
      "source": [
        "import torch.optim as optim\n",
        "\n",
        "optimizer = optim.Adam(model.parameters())"
      ],
      "execution_count": 0,
      "outputs": []
    },
    {
      "cell_type": "code",
      "metadata": {
        "id": "gb2evNXXe5Wn",
        "colab_type": "code",
        "outputId": "64783a79-0fd2-430f-a589-f19b4818aeb5",
        "colab": {
          "base_uri": "https://localhost:8080/",
          "height": 34
        }
      },
      "source": [
        "device = torch.device('cuda' if torch.cuda.is_available() else 'cpu')\n",
        "print(device)"
      ],
      "execution_count": 0,
      "outputs": [
        {
          "output_type": "stream",
          "text": [
            "cuda\n"
          ],
          "name": "stdout"
        }
      ]
    },
    {
      "cell_type": "code",
      "metadata": {
        "id": "0CtC7nIXmU5E",
        "colab_type": "code",
        "colab": {}
      },
      "source": [
        "criterion = nn.BCEWithLogitsLoss()\n",
        "\n",
        "model = model.to(device)\n",
        "criterion = criterion.to(device)"
      ],
      "execution_count": 0,
      "outputs": []
    },
    {
      "cell_type": "code",
      "metadata": {
        "id": "qVF8E5cMmWUe",
        "colab_type": "code",
        "colab": {}
      },
      "source": [
        "def binary_accuracy(preds, y):\n",
        "    \"\"\"\n",
        "    Returns accuracy per batch, i.e. if you get 8/10 right, this returns 0.8, NOT 8\n",
        "    \"\"\"\n",
        "\n",
        "    #round predictions to the closest integer\n",
        "    rounded_preds = torch.round(torch.sigmoid(preds))\n",
        "    correct = (rounded_preds == y).float() #convert into float for division \n",
        "    acc = correct.sum() / len(correct)\n",
        "    return acc"
      ],
      "execution_count": 0,
      "outputs": []
    },
    {
      "cell_type": "code",
      "metadata": {
        "id": "R4uxeqJy8oHb",
        "colab_type": "code",
        "colab": {}
      },
      "source": [
        "from sklearn.metrics import f1_score\n",
        "\n",
        "def f1_score_custom(preds, labels):\n",
        "  \n",
        "    y_pred = torch.round(torch.sigmoid(preds))\n",
        "        \n",
        "    f1 = f1_score(y_pred.cpu().detach().numpy(), labels.cpu().detach().numpy())\n",
        "    \n",
        "    return f1"
      ],
      "execution_count": 0,
      "outputs": []
    },
    {
      "cell_type": "code",
      "metadata": {
        "id": "_qrX058pEoXG",
        "colab_type": "code",
        "colab": {}
      },
      "source": [
        "import matplotlib.pyplot as plt\n",
        "import numpy as np\n",
        "from sklearn.metrics import confusion_matrix\n",
        "from sklearn.utils.multiclass import unique_labels\n",
        "\n",
        "def confusion_matrix_custom(preds, labels, normalize=False):\n",
        "    y_pred = torch.round(torch.sigmoid(preds))\n",
        "    \n",
        "    # Compute confusion matrix\n",
        "    cm = confusion_matrix(labels.cpu().detach().numpy(), y_pred.cpu().detach().numpy())\n",
        "    \n",
        "    if normalize:\n",
        "        cm = cm.astype('float') / cm.sum(axis=1)[:, np.newaxis]\n",
        "    \n",
        "    return cm\n"
      ],
      "execution_count": 0,
      "outputs": []
    },
    {
      "cell_type": "code",
      "metadata": {
        "id": "KZSliyvt6P3q",
        "colab_type": "code",
        "colab": {}
      },
      "source": [
        "def plot_confusion_matrix(cm,\n",
        "                          normalize=False, \n",
        "                          save=False,\n",
        "                          filename='cm.png',\n",
        "                          cmap=plt.cm.Blues):\n",
        "  \n",
        "    title = ''\n",
        "    classes = ['neg', 'pos']\n",
        "    \n",
        "    \"\"\"\n",
        "    This function prints and plots the confusion matrix.\n",
        "    Normalization can be applied by setting `normalize=True`.\n",
        "    \"\"\"\n",
        "    if normalize:\n",
        "        title = 'Normalized confusion matrix'\n",
        "    else:\n",
        "        title = 'Confusion matrix, without normalization'\n",
        "    \n",
        "    if normalize:\n",
        "        cm = cm.astype('float') / cm.sum(axis=1)[:, np.newaxis]\n",
        "    \n",
        "    fig, ax = plt.subplots(figsize=(5, 5))\n",
        "    im = ax.imshow(cm, interpolation='nearest', cmap=cmap)\n",
        "    \n",
        "    ax.figure.colorbar(im, ax=ax)\n",
        "    \n",
        "    # We want to show all ticks...\n",
        "    ax.set(xticks=np.arange(cm.shape[1]),\n",
        "           yticks=np.arange(cm.shape[0]),\n",
        "           # ... and label them with the respective list entries\n",
        "           xticklabels=classes, yticklabels=classes,\n",
        "           title=title,\n",
        "           ylabel='True label',\n",
        "           xlabel='Predicted label')\n",
        "\n",
        "    # Rotate the tick labels and set their alignment.\n",
        "    plt.setp(ax.get_xticklabels(), rotation=45, ha=\"right\",\n",
        "             rotation_mode=\"anchor\")\n",
        "\n",
        "    # Loop over data dimensions and create text annotations.\n",
        "    fmt = '.2f' #if normalize else 'd'\n",
        "    \n",
        "    thresh = cm.max() / 2.\n",
        "    \n",
        "    for i in range(cm.shape[0]):\n",
        "        for j in range(cm.shape[1]):\n",
        "            ax.text(j, i, format(cm[i, j], fmt),\n",
        "                    ha=\"center\", va=\"center\",\n",
        "                    color=\"white\" if cm[i, j] > thresh else \"black\")\n",
        "    fig.tight_layout()\n",
        "    \n",
        "    if save:\n",
        "      plt.savefig(filename)\n",
        "    \n",
        "    plt.show()\n",
        "\n",
        "    return ax"
      ],
      "execution_count": 0,
      "outputs": []
    },
    {
      "cell_type": "code",
      "metadata": {
        "id": "wBroZ7gvNE4f",
        "colab_type": "code",
        "colab": {}
      },
      "source": [
        "import matplotlib.pyplot as plt\n",
        "\n",
        "def loss_graph(phase, epochs, loss_hist, save=False, filename='loss_graph.png'):\n",
        "  \n",
        "    plt.figure(figsize=(10,5))\n",
        "  \n",
        "    plt.title(\"{0} Loss vs. Number of Training Epochs\".format(phase))\n",
        "    plt.xlabel(\"Training Epochs\")\n",
        "    plt.ylabel(\"{0} Loss\".format(phase))\n",
        "    \n",
        "    x = range(1, epochs+1)\n",
        "    y = loss_hist\n",
        "    \n",
        "    plt.plot(x, y, marker=5)\n",
        "\n",
        "    plt.ylim((0, 1.))\n",
        "    plt.xticks(np.arange(1, epochs+1, 1.0))\n",
        "    \n",
        "    plt.grid(True)\n",
        "    \n",
        "    if save:\n",
        "      plt.savefig(filename)\n",
        "    \n",
        "    plt.show() "
      ],
      "execution_count": 0,
      "outputs": []
    },
    {
      "cell_type": "code",
      "metadata": {
        "id": "x_OieIT8mXfo",
        "colab_type": "code",
        "colab": {}
      },
      "source": [
        "def train(model, iterator, optimizer, criterion):\n",
        "    \n",
        "    epoch_loss = 0\n",
        "    epoch_acc = 0\n",
        "    epoch_f1 = 0    \n",
        "    epoch_cm = np.zeros((2,2))\n",
        "    \n",
        "    model.train()\n",
        "    \n",
        "    for step_num, batch in enumerate(iterator):\n",
        "      \n",
        "      text, labels = tuple(t.to(device) for t in batch) \n",
        "      text_lengths = [len(t) for t in text]\n",
        "  \n",
        "      optimizer.zero_grad()\n",
        "\n",
        "      predictions = model(text, text_lengths)\n",
        "\n",
        "      loss = criterion(predictions, labels)\n",
        "\n",
        "      acc = binary_accuracy(predictions, labels)\n",
        "      \n",
        "      f1 = f1_score_custom(predictions, labels)\n",
        "      \n",
        "      cm = confusion_matrix_custom(predictions, labels, normalize=False)\n",
        "\n",
        "      loss.backward()\n",
        "\n",
        "      optimizer.step()\n",
        "\n",
        "      epoch_loss += loss.item()\n",
        "      epoch_acc += acc.item()\n",
        "      epoch_f1 += f1\n",
        "      epoch_cm = np.add(epoch_cm, cm)\n",
        "        \n",
        "    return epoch_loss / len(iterator), epoch_acc / len(iterator), epoch_f1 / len(iterator), epoch_cm"
      ],
      "execution_count": 0,
      "outputs": []
    },
    {
      "cell_type": "code",
      "metadata": {
        "id": "hOSLjrXdmY97",
        "colab_type": "code",
        "colab": {}
      },
      "source": [
        "def evaluate(model, iterator, criterion):\n",
        "    \n",
        "    epoch_loss = 0\n",
        "    epoch_acc = 0\n",
        "    epoch_f1 = 0\n",
        "    epoch_cm = np.zeros((2,2))\n",
        "    \n",
        "    model.eval()\n",
        "    \n",
        "    with torch.no_grad():\n",
        "    \n",
        "        for step_num, batch in enumerate(iterator):\n",
        "        \n",
        "            text, labels = tuple(t.to(device) for t in batch) \n",
        "            text_lengths = [len(t) for t in text]\n",
        "            \n",
        "            predictions = model(text, text_lengths)\n",
        "            \n",
        "            loss = criterion(predictions, labels)\n",
        "            \n",
        "            acc = binary_accuracy(predictions, labels)\n",
        "            \n",
        "            f1 = f1_score_custom(predictions, labels)\n",
        "            \n",
        "            cm = confusion_matrix_custom(predictions, labels, normalize=False)\n",
        "\n",
        "            epoch_loss += loss.item()\n",
        "            epoch_acc += acc.item()\n",
        "            epoch_f1 += f1\n",
        "            epoch_cm = np.add(epoch_cm, cm)\n",
        "        \n",
        "    return epoch_loss / len(iterator), epoch_acc / len(iterator), epoch_f1 / len(iterator), epoch_cm"
      ],
      "execution_count": 0,
      "outputs": []
    },
    {
      "cell_type": "code",
      "metadata": {
        "id": "LjIsRHdnmb1z",
        "colab_type": "code",
        "colab": {}
      },
      "source": [
        "import time\n",
        "\n",
        "def epoch_time(start_time, end_time):\n",
        "    elapsed_time = end_time - start_time\n",
        "    elapsed_mins = int(elapsed_time / 60)\n",
        "    elapsed_secs = int(elapsed_time - (elapsed_mins * 60))\n",
        "    return elapsed_mins, elapsed_secs"
      ],
      "execution_count": 0,
      "outputs": []
    },
    {
      "cell_type": "markdown",
      "metadata": {
        "id": "j9avMgbFHAWb",
        "colab_type": "text"
      },
      "source": [
        "## Train and Evaluate"
      ]
    },
    {
      "cell_type": "code",
      "metadata": {
        "id": "pSTaojjXmee-",
        "colab_type": "code",
        "outputId": "32fdcbad-25e8-424b-c2a5-292ddd4f2b30",
        "colab": {
          "base_uri": "https://localhost:8080/",
          "height": 322
        }
      },
      "source": [
        "N_EPOCHS = 5\n",
        "\n",
        "best_valid_loss = float('inf')\n",
        "\n",
        "train_loss_hist = []\n",
        "valid_loss_hist = []\n",
        "\n",
        "train_cm = []\n",
        "valid_cm = []\n",
        "\n",
        "for epoch in range(N_EPOCHS):\n",
        "  \n",
        "    start_time = time.time()\n",
        "    \n",
        "    train_loss, train_acc, train_f1, train_cm = train(model, train_iterator, optimizer, criterion)\n",
        "    valid_loss, valid_acc, valid_f1, valid_cm = evaluate(model, valid_iterator, criterion)\n",
        "    \n",
        "    train_loss_hist.append(train_loss)\n",
        "    valid_loss_hist.append(valid_loss)\n",
        "    \n",
        "    end_time = time.time()\n",
        "\n",
        "    epoch_mins, epoch_secs = epoch_time(start_time, end_time)\n",
        "    \n",
        "    if valid_loss < best_valid_loss:\n",
        "        best_valid_loss = valid_loss\n",
        "        torch.save(model.state_dict(), 'tut2-model.pt')\n",
        "    \n",
        "    print(f'Epoch: {epoch+1:02} | Epoch Time: {epoch_mins}m {epoch_secs}s')\n",
        "    print(f'\\tTrain Loss: {train_loss:.3f} | Train Acc: {train_acc*100:.2f}  |  Train F1: {train_f1*100:.2f} %')\n",
        "    print(f'\\t Val. Loss: {valid_loss:.3f} |  Val. Acc: {valid_acc*100:.2f}  | . Val. F1: {valid_f1*100:.2f} %')"
      ],
      "execution_count": 0,
      "outputs": [
        {
          "output_type": "stream",
          "text": [
            "/usr/local/lib/python3.6/dist-packages/sklearn/metrics/classification.py:1439: UndefinedMetricWarning: F-score is ill-defined and being set to 0.0 due to no true samples.\n",
            "  'recall', 'true', average, warn_for)\n"
          ],
          "name": "stderr"
        },
        {
          "output_type": "stream",
          "text": [
            "Epoch: 01 | Epoch Time: 1m 38s\n",
            "\tTrain Loss: 0.685 | Train Acc: 53.91  |  Train F1: 43.84 %\n",
            "\t Val. Loss: 0.693 |  Val. Acc: 50.24  | . Val. F1: 66.59 %\n",
            "Epoch: 02 | Epoch Time: 1m 40s\n",
            "\tTrain Loss: 0.623 | Train Acc: 65.77  |  Train F1: 60.48 %\n",
            "\t Val. Loss: 0.546 |  Val. Acc: 73.43  | . Val. F1: 69.54 %\n",
            "Epoch: 03 | Epoch Time: 1m 40s\n",
            "\tTrain Loss: 0.509 | Train Acc: 76.13  |  Train F1: 73.51 %\n",
            "\t Val. Loss: 0.559 |  Val. Acc: 71.31  | . Val. F1: 71.61 %\n",
            "Epoch: 04 | Epoch Time: 1m 40s\n",
            "\tTrain Loss: 0.352 | Train Acc: 85.48  |  Train F1: 84.76 %\n",
            "\t Val. Loss: 0.353 |  Val. Acc: 85.43  | . Val. F1: 85.35 %\n",
            "Epoch: 05 | Epoch Time: 1m 40s\n",
            "\tTrain Loss: 0.176 | Train Acc: 93.81  |  Train F1: 93.68 %\n",
            "\t Val. Loss: 0.386 |  Val. Acc: 86.04  | . Val. F1: 85.40 %\n"
          ],
          "name": "stdout"
        }
      ]
    },
    {
      "cell_type": "markdown",
      "metadata": {
        "id": "GaFLzC3eOX7z",
        "colab_type": "text"
      },
      "source": [
        "## Metrics"
      ]
    },
    {
      "cell_type": "markdown",
      "metadata": {
        "id": "V7i2uM0tOFrY",
        "colab_type": "text"
      },
      "source": [
        "Graph the Loss vs Epochs"
      ]
    },
    {
      "cell_type": "code",
      "metadata": {
        "id": "PmJ6M7aPOFFM",
        "colab_type": "code",
        "outputId": "6cbc7d5b-95ea-427a-a95e-36da73c28a25",
        "colab": {
          "base_uri": "https://localhost:8080/",
          "height": 682
        }
      },
      "source": [
        "# Training vs Epoch\n",
        "loss_graph('Training', N_EPOCHS, train_loss_hist, True, 'bert_training_loss.png')\n",
        "\n",
        "#Validation vs Epoch\n",
        "loss_graph('Validation', N_EPOCHS, valid_loss_hist, True, 'bert_validation_loss.png')\n"
      ],
      "execution_count": 0,
      "outputs": [
        {
          "output_type": "display_data",
          "data": {
            "image/png": "[encoded data removed]",
            "text/plain": [
              "<Figure size 720x360 with 1 Axes>"
            ]
          },
          "metadata": {
            "tags": []
          }
        },
        {
          "output_type": "display_data",
          "data": {
            "image/png": "[encoded data removed]",
            "text/plain": [
              "<Figure size 720x360 with 1 Axes>"
            ]
          },
          "metadata": {
            "tags": []
          }
        }
      ]
    },
    {
      "cell_type": "markdown",
      "metadata": {
        "id": "UQVWSy_oPEll",
        "colab_type": "text"
      },
      "source": [
        "Plot the Confusion Matrix"
      ]
    },
    {
      "cell_type": "code",
      "metadata": {
        "id": "Oa2Oq-086foa",
        "colab_type": "code",
        "outputId": "4b978e53-95ae-46b1-e5b4-9411bad02e55",
        "colab": {
          "base_uri": "https://localhost:8080/",
          "height": 712
        }
      },
      "source": [
        "np.set_printoptions(precision=2)\n",
        "\n",
        "# Plot confusion matrix for Training\n",
        "plot_confusion_matrix(train_cm, normalize=True, save=True, filename='bert_training_cm.png')\n",
        "\n",
        "# Plot confusion matrix for Validation\n",
        "plot_confusion_matrix(valid_cm, normalize=True, save=True, filename='bert_validation_cm.png')\n"
      ],
      "execution_count": 0,
      "outputs": [
        {
          "output_type": "display_data",
          "data": {
            "image/png": "[encoded data removed]",
            "text/plain": [
              "<Figure size 360x360 with 2 Axes>"
            ]
          },
          "metadata": {
            "tags": []
          }
        },
        {
          "output_type": "display_data",
          "data": {
            "image/png": "[encoded data removed]",
            "text/plain": [
              "<Figure size 360x360 with 2 Axes>"
            ]
          },
          "metadata": {
            "tags": []
          }
        },
        {
          "output_type": "execute_result",
          "data": {
            "text/plain": [
              "<matplotlib.axes._subplots.AxesSubplot at 0x7f14f6589748>"
            ]
          },
          "metadata": {
            "tags": []
          },
          "execution_count": 27
        }
      ]
    },
    {
      "cell_type": "markdown",
      "metadata": {
        "id": "ndZCJryBUcsa",
        "colab_type": "text"
      },
      "source": [
        "## Test"
      ]
    },
    {
      "cell_type": "code",
      "metadata": {
        "id": "iVC7mUClmf3s",
        "colab_type": "code",
        "outputId": "4b060079-7509-4aae-eb28-cda3f2a35bdc",
        "colab": {
          "base_uri": "https://localhost:8080/",
          "height": 34
        }
      },
      "source": [
        "model.load_state_dict(torch.load('tut2-model.pt'))\n",
        "\n",
        "test_loss, test_acc, test_f1, test_cm = evaluate(model, test_iterator, criterion)\n",
        "\n",
        "print(f'Test Loss: {test_loss:.3f} | Test Acc: {test_acc*100:.2f}  | . Test. F1: {valid_f1*100:.2f} %')"
      ],
      "execution_count": 0,
      "outputs": [
        {
          "output_type": "stream",
          "text": [
            "Test Loss: 0.417 | Test Acc: 82.58  | . Test. F1: 85.40 %\n"
          ],
          "name": "stdout"
        }
      ]
    },
    {
      "cell_type": "code",
      "metadata": {
        "id": "sNdSmeAWIerL",
        "colab_type": "code",
        "outputId": "35d0b9b1-2401-40b5-f75d-2b20ae166bdd",
        "colab": {
          "base_uri": "https://localhost:8080/",
          "height": 729
        }
      },
      "source": [
        "# Plot non-normalized confusion matrix for Training\n",
        "plot_confusion_matrix(test_cm, normalize=True, save=True, filename='bert_test_cm.png')"
      ],
      "execution_count": 0,
      "outputs": [
        {
          "output_type": "display_data",
          "data": {
            "image/png": "[encoded data removed]",
            "text/plain": [
              "<Figure size 360x360 with 2 Axes>"
            ]
          },
          "metadata": {
            "tags": []
          }
        },
        {
          "output_type": "execute_result",
          "data": {
            "text/plain": [
              "<matplotlib.axes._subplots.AxesSubplot at 0x7f14f649b080>"
            ]
          },
          "metadata": {
            "tags": []
          },
          "execution_count": 29
        },
        {
          "output_type": "display_data",
          "data": {
            "image/png": "[encoded data removed]",
            "text/plain": [
              "<Figure size 360x360 with 2 Axes>"
            ]
          },
          "metadata": {
            "tags": []
          }
        },
        {
          "output_type": "execute_result",
          "data": {
            "text/plain": [
              "<matplotlib.axes._subplots.AxesSubplot at 0x7f14f649b080>"
            ]
          },
          "metadata": {
            "tags": []
          },
          "execution_count": 29
        }
      ]
    },
    {
      "cell_type": "code",
      "metadata": {
        "id": "fJbsa8uFs5-B",
        "colab_type": "code",
        "colab": {}
      },
      "source": [
        ""
      ],
      "execution_count": 0,
      "outputs": []
    }
  ]
}